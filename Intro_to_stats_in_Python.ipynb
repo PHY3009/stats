{
 "cells": [
  {
   "cell_type": "markdown",
   "metadata": {},
   "source": [
    "## Introduction to basic statistics in Python\n",
    "\n",
    "All data requires some form of statistical analysis. Here we will introduce how to perform some common statistical tasks in Python, including linear regression, generalized linear models and hypothesis testing (*e.g.,* ANOVA).\n",
    "\n",
    "We will be using the library [StatsModels](http://statsmodels.sourceforge.net/index.html) for this introduction, but you should also be aware of another useful library in this domain, [scikit-learn](http://scikit-learn.org/stable/).\n",
    "\n",
    "The first thing we need to do is load the libraries and some data. We will be working with some worm tracker data to analyze their locomotion. Data can be accessed [here]()."
   ]
  },
  {
   "cell_type": "code",
   "execution_count": 288,
   "metadata": {
    "collapsed": true
   },
   "outputs": [],
   "source": [
    "# imports pandas for data manipulation \n",
    "# and matplotlib for plotting\n",
    "import pandas as pd\n",
    "import matplotlib.pyplot as plt\n",
    "import numpy as np\n",
    "\n",
    "# this is the standard import if you're using \n",
    "# \"formula notation\" (similar to R)\n",
    "import statsmodels.api as sm\n",
    "\n",
    "# this allows plots to appear directly in the notebook\n",
    "%matplotlib inline"
   ]
  },
  {
   "cell_type": "markdown",
   "metadata": {},
   "source": [
    "#### Example: worm locomotion data"
   ]
  },
  {
   "cell_type": "code",
   "execution_count": 289,
   "metadata": {
    "collapsed": false
   },
   "outputs": [
    {
     "data": {
      "text/html": [
       "<div>\n",
       "<table border=\"1\" class=\"dataframe\">\n",
       "  <thead>\n",
       "    <tr style=\"text-align: right;\">\n",
       "      <th></th>\n",
       "      <th>date</th>\n",
       "      <th>plate</th>\n",
       "      <th>strain</th>\n",
       "      <th>frame</th>\n",
       "      <th>ID</th>\n",
       "      <th>persistance</th>\n",
       "      <th>area</th>\n",
       "      <th>speed</th>\n",
       "      <th>angularspeed</th>\n",
       "      <th>length</th>\n",
       "      <th>...</th>\n",
       "      <th>loc_x</th>\n",
       "      <th>loc_y</th>\n",
       "      <th>vel_x</th>\n",
       "      <th>vel_y</th>\n",
       "      <th>orient</th>\n",
       "      <th>crab</th>\n",
       "      <th>NA</th>\n",
       "      <th>NA.1</th>\n",
       "      <th>NA.2</th>\n",
       "      <th>NA.3</th>\n",
       "    </tr>\n",
       "    <tr>\n",
       "      <th>time</th>\n",
       "      <th></th>\n",
       "      <th></th>\n",
       "      <th></th>\n",
       "      <th></th>\n",
       "      <th></th>\n",
       "      <th></th>\n",
       "      <th></th>\n",
       "      <th></th>\n",
       "      <th></th>\n",
       "      <th></th>\n",
       "      <th></th>\n",
       "      <th></th>\n",
       "      <th></th>\n",
       "      <th></th>\n",
       "      <th></th>\n",
       "      <th></th>\n",
       "      <th></th>\n",
       "      <th></th>\n",
       "      <th></th>\n",
       "      <th></th>\n",
       "      <th></th>\n",
       "    </tr>\n",
       "  </thead>\n",
       "  <tbody>\n",
       "    <tr>\n",
       "      <th>5.079</th>\n",
       "      <td>NaN</td>\n",
       "      <td>NaN</td>\n",
       "      <td>N2</td>\n",
       "      <td>126</td>\n",
       "      <td>1</td>\n",
       "      <td>44.9</td>\n",
       "      <td>0.118827</td>\n",
       "      <td>NaN</td>\n",
       "      <td>NaN</td>\n",
       "      <td>0.6912</td>\n",
       "      <td>...</td>\n",
       "      <td>5.2853</td>\n",
       "      <td>25.2352</td>\n",
       "      <td>NaN</td>\n",
       "      <td>NaN</td>\n",
       "      <td>144.9</td>\n",
       "      <td>NaN</td>\n",
       "      <td>0</td>\n",
       "      <td>0</td>\n",
       "      <td>0</td>\n",
       "      <td>0</td>\n",
       "    </tr>\n",
       "    <tr>\n",
       "      <th>5.123</th>\n",
       "      <td>NaN</td>\n",
       "      <td>NaN</td>\n",
       "      <td>N2</td>\n",
       "      <td>127</td>\n",
       "      <td>1</td>\n",
       "      <td>44.9</td>\n",
       "      <td>0.118827</td>\n",
       "      <td>NaN</td>\n",
       "      <td>NaN</td>\n",
       "      <td>0.6912</td>\n",
       "      <td>...</td>\n",
       "      <td>5.2813</td>\n",
       "      <td>25.2391</td>\n",
       "      <td>NaN</td>\n",
       "      <td>NaN</td>\n",
       "      <td>145.1</td>\n",
       "      <td>NaN</td>\n",
       "      <td>0</td>\n",
       "      <td>0</td>\n",
       "      <td>0</td>\n",
       "      <td>0</td>\n",
       "    </tr>\n",
       "    <tr>\n",
       "      <th>5.163</th>\n",
       "      <td>NaN</td>\n",
       "      <td>NaN</td>\n",
       "      <td>N2</td>\n",
       "      <td>128</td>\n",
       "      <td>1</td>\n",
       "      <td>44.9</td>\n",
       "      <td>0.117369</td>\n",
       "      <td>NaN</td>\n",
       "      <td>NaN</td>\n",
       "      <td>0.6750</td>\n",
       "      <td>...</td>\n",
       "      <td>5.2762</td>\n",
       "      <td>25.2438</td>\n",
       "      <td>NaN</td>\n",
       "      <td>NaN</td>\n",
       "      <td>144.9</td>\n",
       "      <td>NaN</td>\n",
       "      <td>0</td>\n",
       "      <td>0</td>\n",
       "      <td>0</td>\n",
       "      <td>0</td>\n",
       "    </tr>\n",
       "    <tr>\n",
       "      <th>5.209</th>\n",
       "      <td>NaN</td>\n",
       "      <td>NaN</td>\n",
       "      <td>N2</td>\n",
       "      <td>129</td>\n",
       "      <td>1</td>\n",
       "      <td>44.9</td>\n",
       "      <td>0.115182</td>\n",
       "      <td>NaN</td>\n",
       "      <td>NaN</td>\n",
       "      <td>0.6912</td>\n",
       "      <td>...</td>\n",
       "      <td>5.2728</td>\n",
       "      <td>25.2467</td>\n",
       "      <td>NaN</td>\n",
       "      <td>NaN</td>\n",
       "      <td>145.0</td>\n",
       "      <td>NaN</td>\n",
       "      <td>0</td>\n",
       "      <td>0</td>\n",
       "      <td>0</td>\n",
       "      <td>0</td>\n",
       "    </tr>\n",
       "    <tr>\n",
       "      <th>5.242</th>\n",
       "      <td>NaN</td>\n",
       "      <td>NaN</td>\n",
       "      <td>N2</td>\n",
       "      <td>130</td>\n",
       "      <td>1</td>\n",
       "      <td>44.9</td>\n",
       "      <td>0.113724</td>\n",
       "      <td>NaN</td>\n",
       "      <td>NaN</td>\n",
       "      <td>0.6912</td>\n",
       "      <td>...</td>\n",
       "      <td>5.2677</td>\n",
       "      <td>25.2514</td>\n",
       "      <td>NaN</td>\n",
       "      <td>NaN</td>\n",
       "      <td>144.7</td>\n",
       "      <td>NaN</td>\n",
       "      <td>0</td>\n",
       "      <td>0</td>\n",
       "      <td>0</td>\n",
       "      <td>0</td>\n",
       "    </tr>\n",
       "  </tbody>\n",
       "</table>\n",
       "<p>5 rows × 32 columns</p>\n",
       "</div>"
      ],
      "text/plain": [
       "       date  plate strain  frame  ID  persistance      area  speed  \\\n",
       "time                                                                 \n",
       "5.079   NaN    NaN     N2    126   1         44.9  0.118827    NaN   \n",
       "5.123   NaN    NaN     N2    127   1         44.9  0.118827    NaN   \n",
       "5.163   NaN    NaN     N2    128   1         44.9  0.117369    NaN   \n",
       "5.209   NaN    NaN     N2    129   1         44.9  0.115182    NaN   \n",
       "5.242   NaN    NaN     N2    130   1         44.9  0.113724    NaN   \n",
       "\n",
       "       angularspeed  length  ...    loc_x    loc_y  vel_x  vel_y  orient  \\\n",
       "time                         ...                                           \n",
       "5.079           NaN  0.6912  ...   5.2853  25.2352    NaN    NaN   144.9   \n",
       "5.123           NaN  0.6912  ...   5.2813  25.2391    NaN    NaN   145.1   \n",
       "5.163           NaN  0.6750  ...   5.2762  25.2438    NaN    NaN   144.9   \n",
       "5.209           NaN  0.6912  ...   5.2728  25.2467    NaN    NaN   145.0   \n",
       "5.242           NaN  0.6912  ...   5.2677  25.2514    NaN    NaN   144.7   \n",
       "\n",
       "       crab  NA  NA.1  NA.2  NA.3  \n",
       "time                               \n",
       "5.079   NaN   0     0     0     0  \n",
       "5.123   NaN   0     0     0     0  \n",
       "5.163   NaN   0     0     0     0  \n",
       "5.209   NaN   0     0     0     0  \n",
       "5.242   NaN   0     0     0     0  \n",
       "\n",
       "[5 rows x 32 columns]"
      ]
     },
     "execution_count": 289,
     "metadata": {},
     "output_type": "execute_result"
    }
   ],
   "source": [
    "# read data into a DataFrame\n",
    "locomotion_data = pd.read_table('worm_basal_locomotion.dat', sep = '\\s+', index_col = 'time')\n",
    "locomotion_data.head()"
   ]
  },
  {
   "cell_type": "markdown",
   "metadata": {},
   "source": [
    "Let's make a smaller dataframe to work with for this example which contains only time, worm ID and speed."
   ]
  },
  {
   "cell_type": "code",
   "execution_count": 290,
   "metadata": {
    "collapsed": false
   },
   "outputs": [
    {
     "data": {
      "text/html": [
       "<div>\n",
       "<table border=\"1\" class=\"dataframe\">\n",
       "  <thead>\n",
       "    <tr style=\"text-align: right;\">\n",
       "      <th></th>\n",
       "      <th>ID</th>\n",
       "      <th>speed</th>\n",
       "    </tr>\n",
       "    <tr>\n",
       "      <th>time</th>\n",
       "      <th></th>\n",
       "      <th></th>\n",
       "    </tr>\n",
       "  </thead>\n",
       "  <tbody>\n",
       "    <tr>\n",
       "      <th>5.079</th>\n",
       "      <td>1</td>\n",
       "      <td>NaN</td>\n",
       "    </tr>\n",
       "    <tr>\n",
       "      <th>5.123</th>\n",
       "      <td>1</td>\n",
       "      <td>NaN</td>\n",
       "    </tr>\n",
       "    <tr>\n",
       "      <th>5.163</th>\n",
       "      <td>1</td>\n",
       "      <td>NaN</td>\n",
       "    </tr>\n",
       "    <tr>\n",
       "      <th>5.209</th>\n",
       "      <td>1</td>\n",
       "      <td>NaN</td>\n",
       "    </tr>\n",
       "    <tr>\n",
       "      <th>5.242</th>\n",
       "      <td>1</td>\n",
       "      <td>NaN</td>\n",
       "    </tr>\n",
       "  </tbody>\n",
       "</table>\n",
       "</div>"
      ],
      "text/plain": [
       "       ID  speed\n",
       "time            \n",
       "5.079   1    NaN\n",
       "5.123   1    NaN\n",
       "5.163   1    NaN\n",
       "5.209   1    NaN\n",
       "5.242   1    NaN"
      ]
     },
     "execution_count": 290,
     "metadata": {},
     "output_type": "execute_result"
    }
   ],
   "source": [
    "speed_df = locomotion_data[['ID','speed']]\n",
    "speed_df.head()"
   ]
  },
  {
   "cell_type": "markdown",
   "metadata": {},
   "source": [
    "Let's remove the NaN's"
   ]
  },
  {
   "cell_type": "code",
   "execution_count": 291,
   "metadata": {
    "collapsed": false
   },
   "outputs": [
    {
     "data": {
      "text/html": [
       "<div>\n",
       "<table border=\"1\" class=\"dataframe\">\n",
       "  <thead>\n",
       "    <tr style=\"text-align: right;\">\n",
       "      <th></th>\n",
       "      <th>ID</th>\n",
       "      <th>speed</th>\n",
       "    </tr>\n",
       "    <tr>\n",
       "      <th>time</th>\n",
       "      <th></th>\n",
       "      <th></th>\n",
       "    </tr>\n",
       "  </thead>\n",
       "  <tbody>\n",
       "    <tr>\n",
       "      <th>5.363</th>\n",
       "      <td>1</td>\n",
       "      <td>0.1922</td>\n",
       "    </tr>\n",
       "    <tr>\n",
       "      <th>5.403</th>\n",
       "      <td>1</td>\n",
       "      <td>0.1892</td>\n",
       "    </tr>\n",
       "    <tr>\n",
       "      <th>5.443</th>\n",
       "      <td>1</td>\n",
       "      <td>0.1932</td>\n",
       "    </tr>\n",
       "    <tr>\n",
       "      <th>5.483</th>\n",
       "      <td>1</td>\n",
       "      <td>0.1919</td>\n",
       "    </tr>\n",
       "    <tr>\n",
       "      <th>5.524</th>\n",
       "      <td>1</td>\n",
       "      <td>0.1866</td>\n",
       "    </tr>\n",
       "  </tbody>\n",
       "</table>\n",
       "</div>"
      ],
      "text/plain": [
       "       ID   speed\n",
       "time             \n",
       "5.363   1  0.1922\n",
       "5.403   1  0.1892\n",
       "5.443   1  0.1932\n",
       "5.483   1  0.1919\n",
       "5.524   1  0.1866"
      ]
     },
     "execution_count": 291,
     "metadata": {},
     "output_type": "execute_result"
    }
   ],
   "source": [
    "speed_df = speed_df.dropna()\n",
    "speed_df.head()"
   ]
  },
  {
   "cell_type": "markdown",
   "metadata": {},
   "source": [
    "Now let's set the index, time, as a date time object and resample to get the average speed for each worm for every second."
   ]
  },
  {
   "cell_type": "code",
   "execution_count": 292,
   "metadata": {
    "collapsed": false
   },
   "outputs": [
    {
     "data": {
      "text/html": [
       "<div>\n",
       "<table border=\"1\" class=\"dataframe\">\n",
       "  <thead>\n",
       "    <tr style=\"text-align: right;\">\n",
       "      <th></th>\n",
       "      <th>ID</th>\n",
       "      <th>speed</th>\n",
       "    </tr>\n",
       "    <tr>\n",
       "      <th>time</th>\n",
       "      <th></th>\n",
       "      <th></th>\n",
       "    </tr>\n",
       "  </thead>\n",
       "  <tbody>\n",
       "    <tr>\n",
       "      <th>1970-01-01 00:00:05.363</th>\n",
       "      <td>1</td>\n",
       "      <td>0.1922</td>\n",
       "    </tr>\n",
       "    <tr>\n",
       "      <th>1970-01-01 00:00:05.403</th>\n",
       "      <td>1</td>\n",
       "      <td>0.1892</td>\n",
       "    </tr>\n",
       "    <tr>\n",
       "      <th>1970-01-01 00:00:05.443</th>\n",
       "      <td>1</td>\n",
       "      <td>0.1932</td>\n",
       "    </tr>\n",
       "    <tr>\n",
       "      <th>1970-01-01 00:00:05.483</th>\n",
       "      <td>1</td>\n",
       "      <td>0.1919</td>\n",
       "    </tr>\n",
       "    <tr>\n",
       "      <th>1970-01-01 00:00:05.524</th>\n",
       "      <td>1</td>\n",
       "      <td>0.1866</td>\n",
       "    </tr>\n",
       "  </tbody>\n",
       "</table>\n",
       "</div>"
      ],
      "text/plain": [
       "                         ID   speed\n",
       "time                               \n",
       "1970-01-01 00:00:05.363   1  0.1922\n",
       "1970-01-01 00:00:05.403   1  0.1892\n",
       "1970-01-01 00:00:05.443   1  0.1932\n",
       "1970-01-01 00:00:05.483   1  0.1919\n",
       "1970-01-01 00:00:05.524   1  0.1866"
      ]
     },
     "execution_count": 292,
     "metadata": {},
     "output_type": "execute_result"
    }
   ],
   "source": [
    "speed_df.index = pd.to_datetime(speed_df.index, unit='s')\n",
    "speed_df.head()"
   ]
  },
  {
   "cell_type": "markdown",
   "metadata": {},
   "source": [
    "Let's resample to get the mean speed for each worm every 10s:"
   ]
  },
  {
   "cell_type": "code",
   "execution_count": 293,
   "metadata": {
    "collapsed": false
   },
   "outputs": [
    {
     "data": {
      "text/html": [
       "<div>\n",
       "<table border=\"1\" class=\"dataframe\">\n",
       "  <thead>\n",
       "    <tr style=\"text-align: right;\">\n",
       "      <th></th>\n",
       "      <th></th>\n",
       "      <th>speed</th>\n",
       "    </tr>\n",
       "    <tr>\n",
       "      <th>ID</th>\n",
       "      <th>time</th>\n",
       "      <th></th>\n",
       "    </tr>\n",
       "  </thead>\n",
       "  <tbody>\n",
       "    <tr>\n",
       "      <th rowspan=\"5\" valign=\"top\">1</th>\n",
       "      <th>1970-01-01 00:00:00</th>\n",
       "      <td>0.198754</td>\n",
       "    </tr>\n",
       "    <tr>\n",
       "      <th>1970-01-01 00:00:10</th>\n",
       "      <td>0.182466</td>\n",
       "    </tr>\n",
       "    <tr>\n",
       "      <th>1970-01-01 00:00:20</th>\n",
       "      <td>0.107933</td>\n",
       "    </tr>\n",
       "    <tr>\n",
       "      <th>1970-01-01 00:00:30</th>\n",
       "      <td>0.216202</td>\n",
       "    </tr>\n",
       "    <tr>\n",
       "      <th>1970-01-01 00:00:40</th>\n",
       "      <td>0.242328</td>\n",
       "    </tr>\n",
       "  </tbody>\n",
       "</table>\n",
       "</div>"
      ],
      "text/plain": [
       "                           speed\n",
       "ID time                         \n",
       "1  1970-01-01 00:00:00  0.198754\n",
       "   1970-01-01 00:00:10  0.182466\n",
       "   1970-01-01 00:00:20  0.107933\n",
       "   1970-01-01 00:00:30  0.216202\n",
       "   1970-01-01 00:00:40  0.242328"
      ]
     },
     "execution_count": 293,
     "metadata": {},
     "output_type": "execute_result"
    }
   ],
   "source": [
    "speed_resampled = speed_df.groupby('ID').resample('10s', how=('mean'))\n",
    "speed_resampled.head()"
   ]
  },
  {
   "cell_type": "code",
   "execution_count": 294,
   "metadata": {
    "collapsed": false
   },
   "outputs": [
    {
     "data": {
      "text/html": [
       "<div>\n",
       "<table border=\"1\" class=\"dataframe\">\n",
       "  <thead>\n",
       "    <tr style=\"text-align: right;\">\n",
       "      <th></th>\n",
       "      <th>ID</th>\n",
       "      <th>time</th>\n",
       "      <th>speed</th>\n",
       "    </tr>\n",
       "  </thead>\n",
       "  <tbody>\n",
       "    <tr>\n",
       "      <th>0</th>\n",
       "      <td>1</td>\n",
       "      <td>1970-01-01 00:00:00</td>\n",
       "      <td>0.198754</td>\n",
       "    </tr>\n",
       "    <tr>\n",
       "      <th>1</th>\n",
       "      <td>1</td>\n",
       "      <td>1970-01-01 00:00:10</td>\n",
       "      <td>0.182466</td>\n",
       "    </tr>\n",
       "    <tr>\n",
       "      <th>2</th>\n",
       "      <td>1</td>\n",
       "      <td>1970-01-01 00:00:20</td>\n",
       "      <td>0.107933</td>\n",
       "    </tr>\n",
       "    <tr>\n",
       "      <th>3</th>\n",
       "      <td>1</td>\n",
       "      <td>1970-01-01 00:00:30</td>\n",
       "      <td>0.216202</td>\n",
       "    </tr>\n",
       "    <tr>\n",
       "      <th>4</th>\n",
       "      <td>1</td>\n",
       "      <td>1970-01-01 00:00:40</td>\n",
       "      <td>0.242328</td>\n",
       "    </tr>\n",
       "  </tbody>\n",
       "</table>\n",
       "</div>"
      ],
      "text/plain": [
       "   ID                time     speed\n",
       "0   1 1970-01-01 00:00:00  0.198754\n",
       "1   1 1970-01-01 00:00:10  0.182466\n",
       "2   1 1970-01-01 00:00:20  0.107933\n",
       "3   1 1970-01-01 00:00:30  0.216202\n",
       "4   1 1970-01-01 00:00:40  0.242328"
      ]
     },
     "execution_count": 294,
     "metadata": {},
     "output_type": "execute_result"
    }
   ],
   "source": [
    "speed_resampled = speed_resampled.reset_index()\n",
    "speed_resampled.head()"
   ]
  },
  {
   "cell_type": "markdown",
   "metadata": {},
   "source": [
    "To make time a continous variable for our statistics, we also need to convert the time date object back to a float (note: there are probably better ways to do this than what I demostrate below..)"
   ]
  },
  {
   "cell_type": "code",
   "execution_count": 295,
   "metadata": {
    "collapsed": false
   },
   "outputs": [
    {
     "data": {
      "text/html": [
       "<div>\n",
       "<table border=\"1\" class=\"dataframe\">\n",
       "  <thead>\n",
       "    <tr style=\"text-align: right;\">\n",
       "      <th></th>\n",
       "      <th>ID</th>\n",
       "      <th>time</th>\n",
       "      <th>speed</th>\n",
       "    </tr>\n",
       "  </thead>\n",
       "  <tbody>\n",
       "    <tr>\n",
       "      <th>0</th>\n",
       "      <td>1</td>\n",
       "      <td>0</td>\n",
       "      <td>0.198754</td>\n",
       "    </tr>\n",
       "    <tr>\n",
       "      <th>1</th>\n",
       "      <td>1</td>\n",
       "      <td>10</td>\n",
       "      <td>0.182466</td>\n",
       "    </tr>\n",
       "    <tr>\n",
       "      <th>2</th>\n",
       "      <td>1</td>\n",
       "      <td>20</td>\n",
       "      <td>0.107933</td>\n",
       "    </tr>\n",
       "    <tr>\n",
       "      <th>3</th>\n",
       "      <td>1</td>\n",
       "      <td>30</td>\n",
       "      <td>0.216202</td>\n",
       "    </tr>\n",
       "    <tr>\n",
       "      <th>4</th>\n",
       "      <td>1</td>\n",
       "      <td>40</td>\n",
       "      <td>0.242328</td>\n",
       "    </tr>\n",
       "  </tbody>\n",
       "</table>\n",
       "</div>"
      ],
      "text/plain": [
       "   ID  time     speed\n",
       "0   1     0  0.198754\n",
       "1   1    10  0.182466\n",
       "2   1    20  0.107933\n",
       "3   1    30  0.216202\n",
       "4   1    40  0.242328"
      ]
     },
     "execution_count": 295,
     "metadata": {},
     "output_type": "execute_result"
    }
   ],
   "source": [
    "speed_resampled['time'] = speed_resampled.time.astype(np.int64)/1000000000\n",
    "speed_resampled.head()"
   ]
  },
  {
   "cell_type": "markdown",
   "metadata": {},
   "source": [
    "Next let's visualize the data:"
   ]
  },
  {
   "cell_type": "code",
   "execution_count": 308,
   "metadata": {
    "collapsed": false
   },
   "outputs": [
    {
     "name": "stderr",
     "output_type": "stream",
     "text": [
      "//anaconda/lib/python3.4/site-packages/matplotlib/collections.py:590: FutureWarning: elementwise comparison failed; returning scalar instead, but in the future will perform elementwise comparison\n",
      "  if self._edgecolors == str('face'):\n"
     ]
    },
    {
     "data": {
      "image/png": "[encoded data removed]",
      "text/plain": [
       "<matplotlib.figure.Figure at 0x13b7548d0>"
      ]
     },
     "metadata": {},
     "output_type": "display_data"
    }
   ],
   "source": [
    "# plot data\n",
    "speed_resampled.plot(kind = 'scatter', x='time', y='speed', color = 'w')\n",
    "\n",
    "# change axis limits\n",
    "plt.xlim(0, 600)\n",
    "plt.ylim(0, 0.3)\n",
    "\n",
    "# show plot\n",
    "plt.show()"
   ]
  },
  {
   "cell_type": "markdown",
   "metadata": {},
   "source": [
    "##### Questions we can ask about the data:\n",
    "\n",
    "1. Is there a relationship between time and speed?\n",
    "2. How strong is that relationship?\n",
    "3. Given a time, can we predict how fast the worms are moving?"
   ]
  },
  {
   "cell_type": "markdown",
   "metadata": {},
   "source": [
    "### Linear Regression"
   ]
  },
  {
   "cell_type": "markdown",
   "metadata": {},
   "source": [
    "Simple linear regression is an approach for predicting a quantitative response using a single feature (or \"predictor\" or \"input variable\"). It takes the following form:\n",
    "\n",
    "y=β0+β1x\n",
    "\n",
    "What does each term represent?\n",
    "\n",
    "* **y** is the response\n",
    "* **x** is the feature\n",
    "* **β0** is the intercept\n",
    "* **β1** is the coefficient for x\n",
    "\n",
    "\n",
    "Together, β0 and β1 are called the model coefficients. To create your model, you must \"learn\" the values of these coefficients. And once we've learned these coefficients, we can use the model to predict speed!\n",
    "\n",
    "Note - will be using a least squares approach to do this. For more information visit here: http://nbviewer.ipython.org/github/justmarkham/DAT4/blob/master/notebooks/08_linear_regression.ipynb\n"
   ]
  },
  {
   "cell_type": "code",
   "execution_count": 310,
   "metadata": {
    "collapsed": false
   },
   "outputs": [
    {
     "data": {
      "text/plain": [
       "Intercept    0.113660\n",
       "time        -0.000152\n",
       "dtype: float64"
      ]
     },
     "execution_count": 310,
     "metadata": {},
     "output_type": "execute_result"
    }
   ],
   "source": [
    "# create a fitted model in one line\n",
    "lm = smf.ols(formula='speed ~ time', data=speed_resampled).fit()\n",
    "\n",
    "# print the coefficients\n",
    "lm.params"
   ]
  },
  {
   "cell_type": "markdown",
   "metadata": {},
   "source": [
    "##### Interpreting Model Coefficients\n",
    "How do we interpret the time coefficient (β1)?\n",
    "\n",
    "The negative sign of the time coefficient indicates a negative relationship, as time increases, speed decreases. The value of the coefficient represents the magnitude of the change for each unit value.\n",
    "\n",
    "##### Plotting the Least Squares Line\n",
    "\n",
    "Let's use the model to predict values for y. To do this we first need to generate an array of values for x and then we can use the `predict` function to predict y values. We can then overlay this on the plot."
   ]
  },
  {
   "cell_type": "code",
   "execution_count": 311,
   "metadata": {
    "collapsed": false
   },
   "outputs": [
    {
     "name": "stdout",
     "output_type": "stream",
     "text": [
      "(599, 1)\n"
     ]
    },
    {
     "data": {
      "text/html": [
       "<div>\n",
       "<table border=\"1\" class=\"dataframe\">\n",
       "  <thead>\n",
       "    <tr style=\"text-align: right;\">\n",
       "      <th></th>\n",
       "      <th>time</th>\n",
       "    </tr>\n",
       "  </thead>\n",
       "  <tbody>\n",
       "    <tr>\n",
       "      <th>0</th>\n",
       "      <td>1</td>\n",
       "    </tr>\n",
       "    <tr>\n",
       "      <th>1</th>\n",
       "      <td>2</td>\n",
       "    </tr>\n",
       "    <tr>\n",
       "      <th>2</th>\n",
       "      <td>3</td>\n",
       "    </tr>\n",
       "    <tr>\n",
       "      <th>3</th>\n",
       "      <td>4</td>\n",
       "    </tr>\n",
       "    <tr>\n",
       "      <th>4</th>\n",
       "      <td>5</td>\n",
       "    </tr>\n",
       "  </tbody>\n",
       "</table>\n",
       "</div>"
      ],
      "text/plain": [
       "   time\n",
       "0     1\n",
       "1     2\n",
       "2     3\n",
       "3     4\n",
       "4     5"
      ]
     },
     "execution_count": 311,
     "metadata": {},
     "output_type": "execute_result"
    }
   ],
   "source": [
    "# create a DataFrame with a range of values for time\n",
    "# we need to use a dataframe because this is what\n",
    "# the statsmodel predict function expects\n",
    "x_new = pd.DataFrame({'time': range(1,600)})\n",
    "print(x_new.shape)\n",
    "x_new.head()"
   ]
  },
  {
   "cell_type": "code",
   "execution_count": 312,
   "metadata": {
    "collapsed": false
   },
   "outputs": [
    {
     "data": {
      "text/plain": [
       "array([ 0.11335627,  0.11320429,  0.11305231,  0.11290033,  0.11274835,\n",
       "        0.11259637,  0.11244439,  0.11229241,  0.11214043])"
      ]
     },
     "execution_count": 312,
     "metadata": {},
     "output_type": "execute_result"
    }
   ],
   "source": [
    "# create new predicted y values for speed\n",
    "y_preds = lm.predict(x_new)\n",
    "y_preds[1:10]"
   ]
  },
  {
   "cell_type": "code",
   "execution_count": 315,
   "metadata": {
    "collapsed": false
   },
   "outputs": [
    {
     "name": "stderr",
     "output_type": "stream",
     "text": [
      "//anaconda/lib/python3.4/site-packages/matplotlib/collections.py:590: FutureWarning: elementwise comparison failed; returning scalar instead, but in the future will perform elementwise comparison\n",
      "  if self._edgecolors == str('face'):\n"
     ]
    },
    {
     "data": {
      "image/png": "[encoded data removed]",
      "text/plain": [
       "<matplotlib.figure.Figure at 0x117a66588>"
      ]
     },
     "metadata": {},
     "output_type": "display_data"
    }
   ],
   "source": [
    "# plot the raw data\n",
    "speed_resampled.plot(kind='scatter', x='time', y='speed', color='w')\n",
    "\n",
    "# then, plot the least squares line\n",
    "plt.plot(x_new, y_preds, c='red', linewidth=3)\n",
    "\n",
    "# change axis limits\n",
    "plt.xlim(0, 600)\n",
    "plt.ylim(0, 0.3)\n",
    "\n",
    "plt.show()"
   ]
  },
  {
   "cell_type": "markdown",
   "metadata": {},
   "source": [
    "##### Significance of the predictor and how well does the model fit the data?\n",
    "\n",
    "We \"forced\" time to be part of our model, but is there a significant relationship between time and speed? To determine this, we can look at the p-values for the coefficients."
   ]
  },
  {
   "cell_type": "code",
   "execution_count": 320,
   "metadata": {
    "collapsed": false
   },
   "outputs": [
    {
     "data": {
      "text/plain": [
       "Intercept    4.199365e-221\n",
       "time          1.094383e-61\n",
       "dtype: float64"
      ]
     },
     "execution_count": 320,
     "metadata": {},
     "output_type": "execute_result"
    }
   ],
   "source": [
    "# print the p-values for the model coefficients\n",
    "lm.pvalues"
   ]
  },
  {
   "cell_type": "markdown",
   "metadata": {},
   "source": [
    "Given that the p-value is extremely small, we can say there is a siginificant relationship between speed and time. \n",
    "\n",
    "*note - in this case we are not interested in the p-value of the intercept*"
   ]
  },
  {
   "cell_type": "markdown",
   "metadata": {},
   "source": [
    "To get a summary of all of the infomation about the model, use the summary command:"
   ]
  },
  {
   "cell_type": "code",
   "execution_count": 321,
   "metadata": {
    "collapsed": false
   },
   "outputs": [
    {
     "name": "stdout",
     "output_type": "stream",
     "text": [
      "                            OLS Regression Results                            \n",
      "==============================================================================\n",
      "Dep. Variable:                  speed   R-squared:                       0.186\n",
      "Model:                            OLS   Adj. R-squared:                  0.186\n",
      "Method:                 Least Squares   F-statistic:                     305.2\n",
      "Date:                Wed, 04 Nov 2015   Prob (F-statistic):           1.09e-61\n",
      "Time:                        09:33:43   Log-Likelihood:                 1984.4\n",
      "No. Observations:                1334   AIC:                            -3965.\n",
      "Df Residuals:                    1332   BIC:                            -3954.\n",
      "Df Model:                           1                                         \n",
      "Covariance Type:            nonrobust                                         \n",
      "==============================================================================\n",
      "                 coef    std err          t      P>|t|      [95.0% Conf. Int.]\n",
      "------------------------------------------------------------------------------\n",
      "Intercept      0.1137      0.003     38.816      0.000         0.108     0.119\n",
      "time          -0.0002    8.7e-06    -17.469      0.000        -0.000    -0.000\n",
      "==============================================================================\n",
      "Omnibus:                      116.730   Durbin-Watson:                   0.341\n",
      "Prob(Omnibus):                  0.000   Jarque-Bera (JB):              124.857\n",
      "Skew:                           0.706   Prob(JB):                     7.72e-28\n",
      "Kurtosis:                       2.500   Cond. No.                         658.\n",
      "==============================================================================\n",
      "\n",
      "Warnings:\n",
      "[1] Standard Errors assume that the covariance matrix of the errors is correctly specified.\n"
     ]
    }
   ],
   "source": [
    "print(lm.summary())"
   ]
  },
  {
   "cell_type": "markdown",
   "metadata": {},
   "source": [
    "How do we determine how well our model fits the data? We look at the R-squared value, which is the proportion of the variance in the data that the model explains. \n",
    "\n",
    "*note - R-squared increases as you add more predictors/features to your model, thus it is recommended to use the adjusted R-squared that penalizes model complexity (to control for overfitting).*"
   ]
  },
  {
   "cell_type": "code",
   "execution_count": 318,
   "metadata": {
    "collapsed": false
   },
   "outputs": [
    {
     "data": {
      "text/plain": [
       "0.18578214800657189"
      ]
     },
     "execution_count": 318,
     "metadata": {},
     "output_type": "execute_result"
    }
   ],
   "source": [
    "# print the\n",
    "lm.rsquared_adj"
   ]
  },
  {
   "cell_type": "markdown",
   "metadata": {},
   "source": [
    "This adjusted R-squared value tells us that the model does not fit the data very well. In fact it only explains ~ 18 % of the variance in the data... This tell us that maybe we want to try a new model of different shape and/or with additional features/predictors that could help us better explain the variance."
   ]
  },
  {
   "cell_type": "markdown",
   "metadata": {},
   "source": [
    "##### Choosing a better model\n",
    "\n",
    "What we really should have done before we started our regresssion analysis was look at the distribution of the data. If we use a histogram to do this we can clearly see that our data does not fall under the pattern of a normal distribution, and thus using ordinary least squares to fit a model is not an appropriate solution. \n",
    "\n",
    "What we need to do is use a model that can better account for the distribution of our data. "
   ]
  },
  {
   "cell_type": "code",
   "execution_count": 316,
   "metadata": {
    "collapsed": false
   },
   "outputs": [
    {
     "data": {
      "image/png": "[encoded data removed]",
      "text/plain": [
       "<matplotlib.figure.Figure at 0x12f0e9390>"
      ]
     },
     "metadata": {},
     "output_type": "display_data"
    }
   ],
   "source": [
    "speed_resampled.hist(column='speed', bins = 50)\n",
    "plt.show()"
   ]
  },
  {
   "cell_type": "code",
   "execution_count": 322,
   "metadata": {
    "collapsed": false
   },
   "outputs": [],
   "source": [
    "speed_glm = sm.formula.glm(formula='speed ~ time', \n",
    "                           data=speed_resampled, \n",
    "                           family=sm.families.Gaussian(sm.families.links.inverse_power)).fit()"
   ]
  },
  {
   "cell_type": "code",
   "execution_count": 323,
   "metadata": {
    "collapsed": false
   },
   "outputs": [
    {
     "name": "stdout",
     "output_type": "stream",
     "text": [
      "(599, 1)\n"
     ]
    },
    {
     "data": {
      "text/html": [
       "<div>\n",
       "<table border=\"1\" class=\"dataframe\">\n",
       "  <thead>\n",
       "    <tr style=\"text-align: right;\">\n",
       "      <th></th>\n",
       "      <th>time</th>\n",
       "    </tr>\n",
       "  </thead>\n",
       "  <tbody>\n",
       "    <tr>\n",
       "      <th>0</th>\n",
       "      <td>1</td>\n",
       "    </tr>\n",
       "    <tr>\n",
       "      <th>1</th>\n",
       "      <td>2</td>\n",
       "    </tr>\n",
       "    <tr>\n",
       "      <th>2</th>\n",
       "      <td>3</td>\n",
       "    </tr>\n",
       "    <tr>\n",
       "      <th>3</th>\n",
       "      <td>4</td>\n",
       "    </tr>\n",
       "    <tr>\n",
       "      <th>4</th>\n",
       "      <td>5</td>\n",
       "    </tr>\n",
       "  </tbody>\n",
       "</table>\n",
       "</div>"
      ],
      "text/plain": [
       "   time\n",
       "0     1\n",
       "1     2\n",
       "2     3\n",
       "3     4\n",
       "4     5"
      ]
     },
     "execution_count": 323,
     "metadata": {},
     "output_type": "execute_result"
    }
   ],
   "source": [
    "glm_x_new = pd.DataFrame({'time': range(1,600)})\n",
    "print(glm_x_new.shape)\n",
    "glm_x_new.head()"
   ]
  },
  {
   "cell_type": "code",
   "execution_count": 324,
   "metadata": {
    "collapsed": false
   },
   "outputs": [
    {
     "data": {
      "text/plain": [
       "array([ 0.15024012,  0.14943955,  0.14864747,  0.14786374,  0.14708823,\n",
       "        0.14632081,  0.14556137,  0.14480976,  0.14406587])"
      ]
     },
     "execution_count": 324,
     "metadata": {},
     "output_type": "execute_result"
    }
   ],
   "source": [
    "# create new predicted y values for speed\n",
    "glm_y_preds = speed_glm.predict(glm_x_new)\n",
    "glm_y_preds[1:10]"
   ]
  },
  {
   "cell_type": "code",
   "execution_count": 328,
   "metadata": {
    "collapsed": false
   },
   "outputs": [
    {
     "name": "stderr",
     "output_type": "stream",
     "text": [
      "//anaconda/lib/python3.4/site-packages/matplotlib/collections.py:590: FutureWarning: elementwise comparison failed; returning scalar instead, but in the future will perform elementwise comparison\n",
      "  if self._edgecolors == str('face'):\n"
     ]
    },
    {
     "data": {
      "image/png": "[encoded data removed]",
      "text/plain": [
       "<matplotlib.figure.Figure at 0x13b71bdd8>"
      ]
     },
     "metadata": {},
     "output_type": "display_data"
    }
   ],
   "source": [
    "# plot the raw data\n",
    "speed_resampled.plot(kind='scatter', x='time', y='speed', color='w')\n",
    "\n",
    "# change axis limits\n",
    "plt.xlim(0, 600)\n",
    "plt.ylim(0, 0.3)\n",
    "\n",
    "# then, plot the least squares line\n",
    "plt.plot(x_new, y_preds, c='red', linewidth=3)\n",
    "\n",
    "# then, plot the glm line\n",
    "plt.plot(glm_x_new, glm_y_preds, c='blue', linewidth=3)\n",
    "\n",
    "plt.show()"
   ]
  },
  {
   "cell_type": "markdown",
   "metadata": {},
   "source": [
    "We can see now that using a glm we no longer predict that speed and time have a linear relationship.\n",
    "\n",
    "Does this improve the fit of our model? Hints can come from Deviance and the Pearson chi2. \n",
    "\n",
    "What we would likely do at this point is try a few other models to see if we can find one which minimizes the Deviance and the Pearson chi2 values. To do this we could try adding other predictors/features to our model (e.g. worm ID) and/or trying a different glm family and or link.\n",
    "\n",
    "For a great tutorial on multiple linear regression see: http://nbviewer.ipython.org/github/justmarkham/DAT4/blob/master/notebooks/08_linear_regression.ipynb *hint - look for cell 15*"
   ]
  },
  {
   "cell_type": "code",
   "execution_count": 331,
   "metadata": {
    "collapsed": false
   },
   "outputs": [
    {
     "name": "stdout",
     "output_type": "stream",
     "text": [
      "                 Generalized Linear Model Regression Results                  \n",
      "==============================================================================\n",
      "Dep. Variable:                  speed   No. Observations:                 1334\n",
      "Model:                            GLM   Df Residuals:                     1332\n",
      "Model Family:                Gaussian   Df Model:                            1\n",
      "Link Function:          inverse_power   Scale:                0.00284115823315\n",
      "Method:                          IRLS   Log-Likelihood:                 2019.1\n",
      "Date:                Wed, 04 Nov 2015   Deviance:                       3.7844\n",
      "Time:                        09:43:50   Pearson chi2:                     3.78\n",
      "No. Iterations:                     9                                         \n",
      "==============================================================================\n",
      "                 coef    std err          z      P>|z|      [95.0% Conf. Int.]\n",
      "------------------------------------------------------------------------------\n",
      "Intercept      6.5847      0.246     26.767      0.000         6.103     7.067\n",
      "time           0.0357      0.002     17.257      0.000         0.032     0.040\n",
      "==============================================================================\n"
     ]
    }
   ],
   "source": [
    "print(speed_glm.summary())"
   ]
  },
  {
   "cell_type": "markdown",
   "metadata": {},
   "source": [
    "### Hypothesis Testing\n",
    "\n",
    "What if we are interested if two or more groups differ? We can also use common tests such t-test, ANOVA, Fisher's exact test, *etc*., in Python. Remember, when deciding which statistical test to use, it is important to make sure you are using an appropriate test (i.e., is your data of the correct type and distribution for that test?). \n",
    "\n",
    "A great statistical resource I have come across is the [Handbook of Biological Statistics](http://www.biostathandbook.com/). Even though this is written with biological data in mind, it's principles can be applied to data of any type.\n",
    "\n",
    "##### Question: Do worms move significantly faster at the beginning of the experiment compared to the end of the experiment?\n",
    "\n",
    "First, let's make a smaller dataframe consisting with the speed measurements for the time periods of 10s and 590s, which are at the beginning and the ends of the experiments, respectively."
   ]
  },
  {
   "cell_type": "code",
   "execution_count": 347,
   "metadata": {
    "collapsed": false
   },
   "outputs": [
    {
     "data": {
      "text/html": [
       "<div>\n",
       "<table border=\"1\" class=\"dataframe\">\n",
       "  <thead>\n",
       "    <tr style=\"text-align: right;\">\n",
       "      <th></th>\n",
       "      <th>ID</th>\n",
       "      <th>time</th>\n",
       "      <th>speed</th>\n",
       "    </tr>\n",
       "  </thead>\n",
       "  <tbody>\n",
       "    <tr>\n",
       "      <th>1</th>\n",
       "      <td>1</td>\n",
       "      <td>10</td>\n",
       "      <td>0.182466</td>\n",
       "    </tr>\n",
       "    <tr>\n",
       "      <th>6</th>\n",
       "      <td>4</td>\n",
       "      <td>10</td>\n",
       "      <td>0.174174</td>\n",
       "    </tr>\n",
       "    <tr>\n",
       "      <th>12</th>\n",
       "      <td>5</td>\n",
       "      <td>10</td>\n",
       "      <td>0.173761</td>\n",
       "    </tr>\n",
       "    <tr>\n",
       "      <th>40</th>\n",
       "      <td>6</td>\n",
       "      <td>10</td>\n",
       "      <td>0.067486</td>\n",
       "    </tr>\n",
       "    <tr>\n",
       "      <th>98</th>\n",
       "      <td>6</td>\n",
       "      <td>590</td>\n",
       "      <td>0.019512</td>\n",
       "    </tr>\n",
       "  </tbody>\n",
       "</table>\n",
       "</div>"
      ],
      "text/plain": [
       "    ID  time     speed\n",
       "1    1    10  0.182466\n",
       "6    4    10  0.174174\n",
       "12   5    10  0.173761\n",
       "40   6    10  0.067486\n",
       "98   6   590  0.019512"
      ]
     },
     "execution_count": 347,
     "metadata": {},
     "output_type": "execute_result"
    }
   ],
   "source": [
    "beg_end_speed = speed_resampled[(speed_resampled.time == 10) | (speed_resampled.time == 590)]\n",
    "beg_end_speed.head()"
   ]
  },
  {
   "cell_type": "markdown",
   "metadata": {},
   "source": [
    "Next, let's visualize the data with a boxplot:"
   ]
  },
  {
   "cell_type": "code",
   "execution_count": 348,
   "metadata": {
    "collapsed": false
   },
   "outputs": [
    {
     "data": {
      "image/png": "[encoded data removed]",
      "text/plain": [
       "<matplotlib.figure.Figure at 0x135736048>"
      ]
     },
     "metadata": {},
     "output_type": "display_data"
    }
   ],
   "source": [
    "beg_end_speed.boxplot(by='time', column='speed')\n",
    "plt.show()"
   ]
  },
  {
   "cell_type": "markdown",
   "metadata": {},
   "source": [
    "It does look there might very likely be a significant difference, but to test this, we need to ensure we are using the correct test. \n",
    "\n",
    "Let's plot a histogram of both time points and get an idea of the distribution of the data:"
   ]
  },
  {
   "cell_type": "code",
   "execution_count": 351,
   "metadata": {
    "collapsed": false
   },
   "outputs": [
    {
     "data": {
      "image/png": "[encoded data removed]",
      "text/plain": [
       "<matplotlib.figure.Figure at 0x13574e320>"
      ]
     },
     "metadata": {},
     "output_type": "display_data"
    }
   ],
   "source": [
    "beg_end_speed.hist(by='time', column='speed', bins = 25)\n",
    "plt.show()"
   ]
  },
  {
   "cell_type": "markdown",
   "metadata": {},
   "source": [
    "These data do not look normally distributed, but we can test this with a Shapiro-Wilk test for normality using the shapiro function from the [scipy](http://docs.scipy.org/doc/scipy-0.16.0/reference/tutorial/general.html) library:"
   ]
  },
  {
   "cell_type": "code",
   "execution_count": 352,
   "metadata": {
    "collapsed": true
   },
   "outputs": [],
   "source": [
    "import scipy"
   ]
  },
  {
   "cell_type": "code",
   "execution_count": 358,
   "metadata": {
    "collapsed": false
   },
   "outputs": [],
   "source": [
    "beg_speed = speed_resampled.speed[speed_resampled.time == 10]\n",
    "end_speed = speed_resampled.speed[speed_resampled.time == 590]"
   ]
  },
  {
   "cell_type": "code",
   "execution_count": 359,
   "metadata": {
    "collapsed": false
   },
   "outputs": [
    {
     "data": {
      "text/plain": [
       "(0.9341524243354797, 0.13445772230625153)"
      ]
     },
     "execution_count": 359,
     "metadata": {},
     "output_type": "execute_result"
    }
   ],
   "source": [
    "scipy.stats.shapiro(beg_speed)"
   ]
  },
  {
   "cell_type": "markdown",
   "metadata": {},
   "source": [
    "This function returns the test statistic and the p-value. Given that the p-value is > 0.05 we fail to reject the null hypothesis of this test (that the data are normal) and cannot say that the 10s are not from a normal distribution.\n",
    "\n",
    "What about the 590s data?"
   ]
  },
  {
   "cell_type": "code",
   "execution_count": 357,
   "metadata": {
    "collapsed": false
   },
   "outputs": [
    {
     "data": {
      "text/plain": [
       "(0.655042290687561, 7.968059435370378e-06)"
      ]
     },
     "execution_count": 357,
     "metadata": {},
     "output_type": "execute_result"
    }
   ],
   "source": [
    "scipy.stats.shapiro(end_speed)"
   ]
  },
  {
   "cell_type": "markdown",
   "metadata": {},
   "source": [
    "Since the p-value is extremely small, we have to reject the null hypothesis that these data are from a normal distribution.\n",
    "\n",
    "This means that because one of these samples are not normally distrubuted, we cannot use a parametric test, such as a t-test or an ANOVA. We instead must use some non-parametric test. One we can use is the Kruskall-Wallis test because it does not assume the data come from a normal distribution."
   ]
  },
  {
   "cell_type": "code",
   "execution_count": 360,
   "metadata": {
    "collapsed": false
   },
   "outputs": [
    {
     "data": {
      "text/plain": [
       "(24.001242236024837, 9.6273566151461083e-07)"
      ]
     },
     "execution_count": 360,
     "metadata": {},
     "output_type": "execute_result"
    }
   ],
   "source": [
    "scipy.stats.mstats.kruskalwallis(beg_speed, end_speed)"
   ]
  },
  {
   "cell_type": "markdown",
   "metadata": {},
   "source": [
    "This statistical test returns the test statistic and the p-value. Given that the p-value is much much smaller than 0.05 we can safely say that these two sets of data do not come from the same population and are significantly different from eachother."
   ]
  }
 ],
 "metadata": {
  "kernelspec": {
   "display_name": "Python 3",
   "language": "python",
   "name": "python3"
  },
  "language_info": {
   "codemirror_mode": {
    "name": "ipython",
    "version": 3
   },
   "file_extension": ".py",
   "mimetype": "text/x-python",
   "name": "python",
   "nbconvert_exporter": "python",
   "pygments_lexer": "ipython3",
   "version": "3.4.3"
  }
 },
 "nbformat": 4,
 "nbformat_minor": 0
}
